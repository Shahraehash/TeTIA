{
  "cells": [
    {
      "cell_type": "markdown",
      "metadata": {
        "id": "M21MtqOVveTD"
      },
      "source": [
        "# **Notebook for Calculating Metrics, adapted from TANGO Repo**"
      ]
    },
    {
      "cell_type": "code",
      "execution_count": null,
      "metadata": {
        "colab": {
          "base_uri": "https://localhost:8080/"
        },
        "id": "WYKOV5rsvUw6",
        "outputId": "5ee92025-c4a4-49f2-b3c4-b61b3ca884b4"
      },
      "outputs": [
        {
          "name": "stdout",
          "output_type": "stream",
          "text": [
            "Cloning into 'tango'...\n",
            "remote: Enumerating objects: 2409, done.\u001b[K\n",
            "remote: Counting objects: 100% (191/191), done.\u001b[K\n",
            "remote: Compressing objects: 100% (60/60), done.\u001b[K\n",
            "remote: Total 2409 (delta 169), reused 131 (delta 131), pack-reused 2218 (from 1)\u001b[K\n",
            "Receiving objects: 100% (2409/2409), 19.80 MiB | 8.68 MiB/s, done.\n",
            "Resolving deltas: 100% (1023/1023), done.\n"
          ]
        }
      ],
      "source": [
        "!git clone https://github.com/declare-lab/tango.git"
      ]
    },
    {
      "cell_type": "code",
      "execution_count": null,
      "metadata": {
        "id": "_s-UhY0bwIr4"
      },
      "outputs": [],
      "source": [
        "%cd /content/tango\n",
        "!pip install -r requirements.txt -q"
      ]
    },
    {
      "cell_type": "code",
      "execution_count": null,
      "metadata": {
        "id": "h7VwRAq28ifY"
      },
      "outputs": [],
      "source": [
        "# make sure to restart the runtime\n",
        "!pip install jax==0.4.23\n",
        "!pip install jaxlib==0.4.23\n",
        "!pip install numpy==1.23.0"
      ]
    },
    {
      "cell_type": "code",
      "execution_count": null,
      "metadata": {
        "id": "kxaCfq9Bbt9T"
      },
      "outputs": [],
      "source": [
        "!pip install scipy==1.8.0"
      ]
    },
    {
      "cell_type": "code",
      "execution_count": null,
      "metadata": {
        "id": "RcE9S-umc7Kq"
      },
      "outputs": [],
      "source": [
        "# This function calculates all metrics except for CLAP score\n",
        "# See make_an_audio_2.ipynb for the function to do that.\n",
        "%cd /content/tango\n",
        "import json\n",
        "from audioldm_eval import EvaluationHelper\n",
        "\n",
        "evaluator = EvaluationHelper(16000, \"cuda:0\")\n",
        "\n",
        "output_dir = 'maa1_ft'\n",
        "test_ref = 'audio_wav'\n",
        "\n",
        "result = evaluator.main(output_dir, test_ref)\n",
        "\n",
        "with open(\"maa1_ft_checkpoint_summary.json\", \"a\") as f:\n",
        "    f.write(json.dumps(result) + \"\\n\\n\")"
      ]
    },
    {
      "cell_type": "markdown",
      "metadata": {
        "id": "ZboaiCNkxBfF"
      },
      "source": [
        "Credits to the authors.\n",
        "\n",
        "```\n",
        "@article{ghosal2023tango,\n",
        "  title={Text-to-Audio Generation using Instruction Tuned LLM and Latent Diffusion Model},\n",
        "  author={Ghosal, Deepanway and Majumder, Navonil and Mehrish, Ambuj and Poria, Soujanya},\n",
        "  journal={arXiv preprint arXiv:2304.13731},\n",
        "  year={2023}\n",
        "}\n",
        "```\n",
        "\n"
      ]
    }
  ],
  "metadata": {
    "accelerator": "GPU",
    "colab": {
      "gpuType": "T4",
      "provenance": []
    },
    "kernelspec": {
      "display_name": "Python 3",
      "language": "python",
      "name": "python3"
    },
    "language_info": {
      "codemirror_mode": {
        "name": "ipython",
        "version": 3
      },
      "file_extension": ".py",
      "mimetype": "text/x-python",
      "name": "python",
      "nbconvert_exporter": "python",
      "pygments_lexer": "ipython3",
      "version": "3.11.10"
    }
  },
  "nbformat": 4,
  "nbformat_minor": 0
}
